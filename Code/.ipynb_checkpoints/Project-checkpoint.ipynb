{
 "cells": [
  {
   "cell_type": "markdown",
   "metadata": {},
   "source": [
    "# Photovoltaics Interactive Tabletop\n",
    "## Cristian Sorescu 879091"
   ]
  },
  {
   "cell_type": "code",
   "execution_count": 30,
   "metadata": {},
   "outputs": [],
   "source": [
    "import numpy as np\n",
    "import pandas as pd\n",
    "import tsfresh\n",
    "import matplotlib.pyplot as plt\n",
    "\n",
    "# Patterns data\n",
    "gestures = []\n",
    "\n",
    "# fist formation gesture\n",
    "handDetect = pd.read_csv('csv/hand_detected_1.csv', delim_whitespace=False, header=[0, 1], index_col=0)\n",
    "gestures.append([handDetect, 'Hand Detetction'])\n",
    "# fist formation gesture\n",
    "fistForm = pd.read_csv('csv/fist_form_1.csv', delim_whitespace=False, header=[0, 1], index_col=0)\n",
    "gestures.append([fistForm, 'Fist Formation'])\n",
    "# clockwise motion gesture\n",
    "clockwise = pd.read_csv('csv/clockwise_1.csv', delim_whitespace=False, header=[0, 1], index_col=0)\n",
    "gestures.append([clockwise, 'Clockwise Motion'])\n",
    "# counterclockwise motion gesture\n",
    "counterclockwise = pd.read_csv('csv/counterclockwise_2.csv', delim_whitespace=False, header=[0, 1], index_col=0)\n",
    "gestures.append([counterclockwise, 'Counterclockwise Motion'])\n",
    "# continuous swipes motion gesture\n",
    "swipes = pd.read_csv('csv/swipe_1.csv', delim_whitespace=False, header=[0, 1], index_col=0)\n",
    "gestures.append([swipes, 'Continuous Swipes'])\n",
    "# singular swipe motion gesture\n",
    "swipe = pd.read_csv('csv/swipes_1.csv', delim_whitespace=False, header=[0, 1], index_col=0)\n",
    "gestures.append([swipe, 'Singular Swipe'])\n",
    "# raise and Lower hand motion\n",
    "raiseLower = pd.read_csv('csv/raiseLower_1.csv', delim_whitespace=False, header=[0, 1], index_col=0)\n",
    "gestures.append([raiseLower, 'Raise/Lower Hand Motion'])"
   ]
  },
  {
   "cell_type": "code",
   "execution_count": null,
   "metadata": {
    "scrolled": true
   },
   "outputs": [],
   "source": [
    "# plot the data\n",
    "\n",
    "#fistForm.shape\n",
    "#fistForm.head(3)\n",
    "gestures[:5]\n",
    "\n",
    "#handDetect['Channel A'].plot(linewidth=1);\n",
    "#fistForm['Channel A'].plot(linewidth=1);\n",
    "#clockwise['Channel A'].plot(linewidth=1);"
   ]
  },
  {
   "cell_type": "code",
   "execution_count": null,
   "metadata": {},
   "outputs": [],
   "source": [
    "# extract features\n",
    "fistForm.reset_index(inplace=True)\n",
    "fistForm_features = tsfresh.extract_features(fistForm, column_id='index', n_jobs=4)\n",
    "\n",
    "#fistForm_features = tsfresh.extract_features(fistForm)\n",
    "\n",
    "#clockwise_features = tsfresh.extract_features(clockwise)\n",
    "\n",
    "#counterclockwise_features = tsfresh.extract_features(counterclockwise)\n",
    "\n",
    "#swipes_features = tsfresh.extract_features(swipes)\n",
    "\n",
    "#swipe_features = tsfresh.extract_features(swipe)\n",
    "\n",
    "#raiseLower_features = tsfresh.extract_features(raiseLower)"
   ]
  },
  {
   "cell_type": "code",
   "execution_count": null,
   "metadata": {
    "scrolled": true
   },
   "outputs": [],
   "source": [
    "from tsfresh.utilities.dataframe_functions import impute\n",
    "\n",
    "impute(handDetect_features)"
   ]
  },
  {
   "cell_type": "code",
   "execution_count": null,
   "metadata": {
    "scrolled": false
   },
   "outputs": [],
   "source": [
    "#handDetect_features.head()\n",
    "#handDetect.resample('3T').sum()\n",
    "#handDetect.describe()"
   ]
  },
  {
   "cell_type": "code",
   "execution_count": null,
   "metadata": {},
   "outputs": [],
   "source": [
    "for gesture in gestures:\n",
    "    gestureDF, title = gesture\n",
    "    print(round(gestureDF.max().to_numpy()[0], 1))"
   ]
  },
  {
   "cell_type": "code",
   "execution_count": null,
   "metadata": {},
   "outputs": [],
   "source": [
    "plt.rcParams.update({'font.size': 32})\n",
    "\n",
    "for gesture in gestures:\n",
    "    gestureDF, title = gesture\n",
    "    #gestureDF.columns = gestureDF.columns.droplevel(1)\n",
    "    plotTitle = title\n",
    "\n",
    "    rollingMean = gestureDF.rolling(window = 100).mean()\n",
    "    rollingMean = rollingMean.dropna().drop_duplicates()\n",
    "    rollingStd = gestureDF.rolling(window = 12).std()\n",
    "    #plt.plot(gestureDF, color = 'blue', label = 'Original')\n",
    "    plt.plot(rollingMean, color = 'red', label = 'Rolling Mean')\n",
    "    #plt.plot(rollingStd, color = 'black', label = 'Rolling STD')\n",
    "    #plt.legend(loc = 'best', prop={'size': 13})\n",
    "    #plt.title(plotTitle)\n",
    "    plt.xlabel('Time (s)')\n",
    "    plt.ylabel('Voltage (V)')\n",
    "    #minR = round(gestureDF.min().to_numpy()[0], 1)\n",
    "    #maxR = round(gestureDF.max().to_numpy()[0], 1)\n",
    "    #plt.yticks(np.arange(minR, maxR, step=0.3)) \n",
    "    plt.show()"
   ]
  },
  {
   "cell_type": "code",
   "execution_count": null,
   "metadata": {},
   "outputs": [],
   "source": [
    "import mass_ts as mts\n",
    "\n",
    "ts = handDetect3.to_numpy()\n",
    "q = handDetect.to_numpy()\n",
    "\n",
    "print(handDetect3[:,0])\n",
    "\n",
    "# mass\n",
    "distances = mts.mass(ts[:,0], q[:,0])\n",
    "\n",
    "# mass2\n",
    "distances = mts.mass2(ts[:,0], q[:,0])\n",
    "\n",
    "# mass3\n",
    "#distances = mts.mass3(ts[:,0], q[:,0], 256)\n",
    "\n",
    "# mass2_batch\n",
    "# start a multi-threaded batch job with all cpu cores and give me the top 5 matches.\n",
    "# note that batch_size partitions your time series into a subsequence similarity search.\n",
    "# even for large time series in single threaded mode, this is much more memory efficient than\n",
    "# MASS2 on its own.\n",
    "batch_size = 10000\n",
    "top_matches = 5\n",
    "n_jobs = 3\n",
    "indices, distances = mts.mass2_batch(ts[:,0], q[:,0], batch_size, \n",
    "    top_matches=top_matches, n_jobs=n_jobs)\n",
    "\n",
    "# find minimum distance\n",
    "min_idx = np.argmin(distances)\n",
    "\n",
    "# find top 4 motif starting indices\n",
    "k = 4\n",
    "exclusion_zone = 25\n",
    "top_motifs = mts.top_k_motifs(distances, k, exclusion_zone)\n",
    "\n",
    "# find top 4 discord starting indices\n",
    "k = 4\n",
    "exclusion_zone = 25\n",
    "top_discords = mts.top_k_discords(distances, k, exclusion_zone)"
   ]
  },
  {
   "cell_type": "markdown",
   "metadata": {},
   "source": [
    "# Wavelet analysis"
   ]
  },
  {
   "cell_type": "code",
   "execution_count": 74,
   "metadata": {},
   "outputs": [
    {
     "ename": "AttributeError",
     "evalue": "'numpy.ndarray' object has no attribute 'as_matrix'",
     "output_type": "error",
     "traceback": [
      "\u001b[0;31m---------------------------------------------------------------------------\u001b[0m",
      "\u001b[0;31mAttributeError\u001b[0m                            Traceback (most recent call last)",
      "\u001b[0;32m<ipython-input-74-3bfa90c6587e>\u001b[0m in \u001b[0;36m<module>\u001b[0;34m\u001b[0m\n\u001b[1;32m      4\u001b[0m \u001b[0;31m#cA, cD = pywt.dwt(x, 'db2')\u001b[0m\u001b[0;34m\u001b[0m\u001b[0;34m\u001b[0m\u001b[0;34m\u001b[0m\u001b[0m\n\u001b[1;32m      5\u001b[0m \u001b[0;31m#x2 = pywt.idwt(cA, cD, 'db2')\u001b[0m\u001b[0;34m\u001b[0m\u001b[0;34m\u001b[0m\u001b[0;34m\u001b[0m\u001b[0m\n\u001b[0;32m----> 6\u001b[0;31m \u001b[0mx\u001b[0m\u001b[0;34m.\u001b[0m\u001b[0mas_matrix\u001b[0m\u001b[0;34m(\u001b[0m\u001b[0;34m)\u001b[0m\u001b[0;34m\u001b[0m\u001b[0;34m\u001b[0m\u001b[0m\n\u001b[0m",
      "\u001b[0;31mAttributeError\u001b[0m: 'numpy.ndarray' object has no attribute 'as_matrix'"
     ]
    }
   ],
   "source": [
    "import pywt\n",
    "x = handDetect\n",
    "# Discrete Wavelet Transform\n",
    "#cA, cD = pywt.dwt(x, 'db2')\n",
    "#x2 = pywt.idwt(cA, cD, 'db2')\n",
    "x.as_matrix()"
   ]
  },
  {
   "cell_type": "code",
   "execution_count": 16,
   "metadata": {},
   "outputs": [
    {
     "name": "stdout",
     "output_type": "stream",
     "text": [
      "Mode: 0 (zero)\n",
      "Mode: 2 (constant)\n",
      "Mode: 1 (symmetric)\n",
      "Mode: 6 (reflect)\n",
      "Mode: 4 (periodic)\n",
      "Mode: 3 (smooth)\n",
      "Mode: 5 (periodization)\n"
     ]
    }
   ],
   "source": [
    "# for mode_name in ['zero', 'constant', 'symmetric', 'reflect', 'periodic', 'smooth', 'periodization']:\n",
    "#     mode = getattr(pywt.Modes, mode_name)\n",
    "#     cA, cD = pywt.dwt(x, 'db2', mode)\n",
    "#     print(\"Mode: %d (%s)\" % (mode, mode_name))"
   ]
  },
  {
   "cell_type": "code",
   "execution_count": 70,
   "metadata": {},
   "outputs": [],
   "source": [
    "wp = pywt.WaveletPacket2D(data=x, wavelet='db1', mode='symmetric')"
   ]
  },
  {
   "cell_type": "code",
   "execution_count": 71,
   "metadata": {},
   "outputs": [
    {
     "data": {
      "text/plain": [
       "array([[0.1147496 ],\n",
       "       [0.09765923],\n",
       "       [0.1010163 ],\n",
       "       ...,\n",
       "       [0.06408887],\n",
       "       [0.04364147],\n",
       "       [0.03326517]])"
      ]
     },
     "execution_count": 71,
     "metadata": {},
     "output_type": "execute_result"
    }
   ],
   "source": [
    "wp.data"
   ]
  },
  {
   "cell_type": "code",
   "execution_count": 73,
   "metadata": {},
   "outputs": [
    {
     "ename": "IndexError",
     "evalue": "Path length is out of range.",
     "output_type": "error",
     "traceback": [
      "\u001b[0;31m---------------------------------------------------------------------------\u001b[0m",
      "\u001b[0;31mIndexError\u001b[0m                                Traceback (most recent call last)",
      "\u001b[0;32m<ipython-input-73-fc46db8707e2>\u001b[0m in \u001b[0;36m<module>\u001b[0;34m\u001b[0m\n\u001b[0;32m----> 1\u001b[0;31m \u001b[0mprint\u001b[0m\u001b[0;34m(\u001b[0m\u001b[0mwp\u001b[0m\u001b[0;34m[\u001b[0m\u001b[0;34m'a'\u001b[0m\u001b[0;34m]\u001b[0m\u001b[0;34m.\u001b[0m\u001b[0mdata\u001b[0m\u001b[0;34m)\u001b[0m\u001b[0;34m\u001b[0m\u001b[0;34m\u001b[0m\u001b[0m\n\u001b[0m",
      "\u001b[0;32m~/Library/Python/3.7/lib/python/site-packages/pywt/_wavelet_packets.py\u001b[0m in \u001b[0;36m__getitem__\u001b[0;34m(self, path)\u001b[0m\n\u001b[1;32m    237\u001b[0m             if (self.maxlevel is not None\n\u001b[1;32m    238\u001b[0m                     and len(path) > self.maxlevel * self.PART_LEN):\n\u001b[0;32m--> 239\u001b[0;31m                 \u001b[0;32mraise\u001b[0m \u001b[0mIndexError\u001b[0m\u001b[0;34m(\u001b[0m\u001b[0;34m\"Path length is out of range.\"\u001b[0m\u001b[0;34m)\u001b[0m\u001b[0;34m\u001b[0m\u001b[0;34m\u001b[0m\u001b[0m\n\u001b[0m\u001b[1;32m    240\u001b[0m             \u001b[0;32mif\u001b[0m \u001b[0mpath\u001b[0m\u001b[0;34m:\u001b[0m\u001b[0;34m\u001b[0m\u001b[0;34m\u001b[0m\u001b[0m\n\u001b[1;32m    241\u001b[0m                 return self.get_subnode(path[0:self.PART_LEN], True)[\n",
      "\u001b[0;31mIndexError\u001b[0m: Path length is out of range."
     ]
    }
   ],
   "source": [
    "print(wp['a'].data)"
   ]
  },
  {
   "cell_type": "code",
   "execution_count": 60,
   "metadata": {},
   "outputs": [
    {
     "name": "stdout",
     "output_type": "stream",
     "text": [
      "[[ 3.  7. 11. 15.]\n",
      " [ 3.  7. 11. 15.]\n",
      " [ 3.  7. 11. 15.]\n",
      " [ 3.  7. 11. 15.]]\n"
     ]
    }
   ],
   "source": [
    "y = np.array([[1, 2, 3, 4, 5, 6, 7, 8]] * 8, 'd')\n",
    "wp1 = pywt.WaveletPacket2D(data=y, wavelet='db1', mode='symmetric')\n",
    "print(wp1['a'].data)"
   ]
  },
  {
   "cell_type": "code",
   "execution_count": null,
   "metadata": {},
   "outputs": [],
   "source": []
  }
 ],
 "metadata": {
  "kernelspec": {
   "display_name": "Python 3",
   "language": "python",
   "name": "python3"
  },
  "language_info": {
   "codemirror_mode": {
    "name": "ipython",
    "version": 3
   },
   "file_extension": ".py",
   "mimetype": "text/x-python",
   "name": "python",
   "nbconvert_exporter": "python",
   "pygments_lexer": "ipython3",
   "version": "3.7.5"
  }
 },
 "nbformat": 4,
 "nbformat_minor": 2
}
