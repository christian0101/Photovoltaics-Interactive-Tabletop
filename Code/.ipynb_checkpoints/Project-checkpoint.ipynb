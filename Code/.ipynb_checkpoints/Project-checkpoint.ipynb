{
 "cells": [
  {
   "cell_type": "markdown",
   "metadata": {},
   "source": [
    "# Photovoltaics Interactive Tabletop\n",
    "## Cristian Sorescu 879091"
   ]
  },
  {
   "cell_type": "code",
   "execution_count": 89,
   "metadata": {},
   "outputs": [],
   "source": [
    "# imports\n",
    "\n",
    "import numpy as np\n",
    "import pandas as pd\n",
    "import tsfresh\n",
    "import matplotlib.pyplot as plt\n",
    "from sklearn import preprocessing\n",
    "from keras import optimizers, losses, activations, models\n",
    "from keras.callbacks import ModelCheckpoint, EarlyStopping, LearningRateScheduler, ReduceLROnPlateau\n",
    "from keras.layers import Dense, Input, Flatten, Dropout, Convolution1D, MaxPool1D, GlobalMaxPool1D, GlobalAveragePooling1D, \\\n",
    "    concatenate\n",
    "from sklearn.metrics import f1_score, accuracy_score\n",
    "import glob\n",
    "import os"
   ]
  },
  {
   "cell_type": "code",
   "execution_count": 54,
   "metadata": {},
   "outputs": [],
   "source": [
    "# Functions\n",
    "\n",
    "# Lag Features generation, \n",
    "# predict the value at the next time (t+1) given the value at the previous time (t-1).\n",
    "def series_to_supervised(data, n_in=1, n_out=1, dropnan=True):\n",
    "    n_vars = 1 if type(data) is list else data.shape[1]\n",
    "    df = data\n",
    "    cols, names = list(), list()\n",
    "    # input sequence (t-n, ..., t-1)\n",
    "    for i in range(n_in, 0, -1):\n",
    "        cols.append(df.shift(i))\n",
    "        names += [('var%d(t-%d)' % (j+1, i)) for j in range(n_vars)]\n",
    "    # forecast sequence (t, t+1, ..., t+n)\n",
    "    for i in range(0, n_out):\n",
    "        cols.append(df.shift(-i))\n",
    "        if i == 0:\n",
    "            names += [('var%d(t)' % (j+1)) for j in range(n_vars)]\n",
    "        else:\n",
    "            names += [('var%d(t+%d)' % (j+1, i)) for j in range(n_vars)]\n",
    "    # put it all together\n",
    "    agg = pd.concat(cols, axis=1)\n",
    "    agg.columns = names\n",
    "    # drop rows with NaN values\n",
    "    if dropnan:\n",
    "        agg.dropna(inplace=True)\n",
    "        \n",
    "    return agg\n",
    "\n",
    "# definition of cnn model\n",
    "def get_model(_shape):\n",
    "    # number of classes\n",
    "    nclass = 6\n",
    "    \n",
    "    inp = Input(shape=_shape)\n",
    "    print(inp)\n",
    "    \n",
    "    # layers\n",
    "    # kernel size as tuple\n",
    "    img_1 = Convolution1D(16, kernel_size=5, activation=activations.relu, padding=\"valid\")(inp)\n",
    "    img_1 = Convolution1D(16, kernel_size=5, activation=activations.relu, padding=\"valid\")(img_1)\n",
    "    img_1 = MaxPool1D(pool_size=2)(img_1)\n",
    "    img_1 = Dropout(rate=0.1)(img_1)\n",
    "    img_1 = Convolution1D(32, kernel_size=3, activation=activations.relu, padding=\"valid\")(img_1)\n",
    "    img_1 = Convolution1D(32, kernel_size=3, activation=activations.relu, padding=\"valid\")(img_1)\n",
    "    img_1 = MaxPool1D(pool_size=2)(img_1)\n",
    "    img_1 = Dropout(rate=0.1)(img_1)\n",
    "    img_1 = Convolution1D(32, kernel_size=3, activation=activations.relu, padding=\"valid\")(img_1)\n",
    "    img_1 = Convolution1D(32, kernel_size=3, activation=activations.relu, padding=\"valid\")(img_1)\n",
    "    img_1 = MaxPool1D(pool_size=2)(img_1)\n",
    "    img_1 = Dropout(rate=0.1)(img_1)\n",
    "    img_1 = Convolution1D(256, kernel_size=3, activation=activations.relu, padding=\"valid\")(img_1)\n",
    "    img_1 = Convolution1D(256, kernel_size=3, activation=activations.relu, padding=\"valid\")(img_1)\n",
    "    img_1 = GlobalMaxPool1D()(img_1)\n",
    "    img_1 = Dropout(rate=0.2)(img_1)\n",
    "\n",
    "    dense_1 = Dense(64, activation=activations.relu, name=\"dense_1\")(img_1)\n",
    "    dense_1 = Dense(64, activation=activations.relu, name=\"dense_2\")(dense_1)\n",
    "    dense_1 = Dense(nclass, activation=activations.softmax, name=\"dense_3\")(dense_1)\n",
    "\n",
    "    # model definition\n",
    "    model = models.Model(inputs=inp, outputs=dense_1)\n",
    "    opt = optimizers.Adam(0.001)\n",
    "\n",
    "    model.compile(optimizer=opt, loss=losses.sparse_categorical_crossentropy) # metrics=['accuracy']\n",
    "    model.summary()\n",
    "    \n",
    "    return model"
   ]
  },
  {
   "cell_type": "code",
   "execution_count": 5,
   "metadata": {},
   "outputs": [
    {
     "name": "stdout",
     "output_type": "stream",
     "text": [
      "(15004, 1)\n"
     ]
    }
   ],
   "source": [
    "# read_csv parameters\n",
    "csv_params = \"delim_whitespace=False, header=[0, 1], index_col=0\"\n",
    "\n",
    "# gestures data\n",
    "gestures = []\n",
    "\n",
    "# fist formation gesture\n",
    "handDetect = pd.read_csv('csv/hand_detected_1.csv', delim_whitespace=False, header=[0, 1], index_col=0)\n",
    "gestures.append([handDetect, 'Hand Detetction'])\n",
    "# fist formation gesture\n",
    "fistForm = pd.read_csv('csv/train/fist_form_1.csv', delim_whitespace=False, header=[0, 1], index_col=0)\n",
    "gestures.append([fistForm, 'Fist Formation'])\n",
    "# clockwise motion gesture\n",
    "clockwise = pd.read_csv('csv/train/clockwise_1.csv', delim_whitespace=False, header=[0, 1], index_col=0)\n",
    "gestures.append([clockwise, 'Clockwise Motion'])\n",
    "# counterclockwise motion gesture\n",
    "counterclockwise = pd.read_csv('csv/train/counterclockwise_2.csv', delim_whitespace=False, header=[0, 1], index_col=0)\n",
    "gestures.append([counterclockwise, 'Counterclockwise Motion'])\n",
    "# continuous swipes motion gesture\n",
    "swipe = pd.read_csv('csv/train/swipe_1.csv', delim_whitespace=False, header=[0, 1], index_col=0)\n",
    "gestures.append([swipe, 'Singular Swipe'])\n",
    "# singular swipe motion gesture\n",
    "swipes = pd.read_csv('csv/train/swipes_1.csv', delim_whitespace=False, header=[0, 1], index_col=0)\n",
    "gestures.append([swipes, 'Continuous Swipes'])\n",
    "# raise and Lower hand motion\n",
    "raiseLower = pd.read_csv('csv/train/raiseLower_1.csv', delim_whitespace=False, header=[0, 1], index_col=0)\n",
    "gestures.append([raiseLower, 'Raise/Lower Hand Motion'])\n",
    "\n",
    "# testing\n",
    "gesture = fistForm\n",
    "\n",
    "#gesture = series_to_supervised(gesture, 79)\n",
    "print(gesture.shape)"
   ]
  },
  {
   "cell_type": "code",
   "execution_count": 47,
   "metadata": {},
   "outputs": [
    {
     "name": "stdout",
     "output_type": "stream",
     "text": [
      "(6, 1, 14905, 1)\n",
      "swipes_1\n",
      "raiseLower_1\n",
      "counterclockwise_2\n",
      "swipe_1\n",
      "clockwise_1\n",
      "fist_form_1\n"
     ]
    }
   ],
   "source": [
    "path = \"csv/train\"\n",
    "file_list = glob.glob(path + '/*.csv')\n",
    "gestures_array = np.array([pd.read_csv(fp, delim_whitespace=False, header=[0, 1], index_col=0).rolling(window = 100).mean().dropna().values for fp in file_list])\n",
    "gestures_array = np.expand_dims(gestures_array, axis=1)\n",
    "\n",
    "print(gestures_array.shape)\n",
    "\n",
    "# for f in file_list:\n",
    "#     print(os.path.basename(os.path.splitext(f)[0]))"
   ]
  },
  {
   "cell_type": "code",
   "execution_count": 104,
   "metadata": {},
   "outputs": [
    {
     "ename": "AttributeError",
     "evalue": "'LabelEncoder' object has no attribute 'shape'",
     "output_type": "error",
     "traceback": [
      "\u001b[0;31m---------------------------------------------------------------------------\u001b[0m",
      "\u001b[0;31mAttributeError\u001b[0m                            Traceback (most recent call last)",
      "\u001b[0;32m<ipython-input-104-81045dcd259b>\u001b[0m in \u001b[0;36m<module>\u001b[0;34m\u001b[0m\n\u001b[1;32m      4\u001b[0m \u001b[0mclass_labels_bin\u001b[0m \u001b[0;34m=\u001b[0m \u001b[0mfoo\u001b[0m\u001b[0;34m.\u001b[0m\u001b[0mfit\u001b[0m\u001b[0;34m(\u001b[0m\u001b[0my\u001b[0m\u001b[0;34m=\u001b[0m\u001b[0mclass_labels\u001b[0m\u001b[0;34m)\u001b[0m\u001b[0;34m\u001b[0m\u001b[0;34m\u001b[0m\u001b[0m\n\u001b[1;32m      5\u001b[0m \u001b[0;34m\u001b[0m\u001b[0m\n\u001b[0;32m----> 6\u001b[0;31m \u001b[0mprint\u001b[0m\u001b[0;34m(\u001b[0m\u001b[0mclass_labels_bin\u001b[0m\u001b[0;34m.\u001b[0m\u001b[0mshape\u001b[0m\u001b[0;34m)\u001b[0m\u001b[0;34m\u001b[0m\u001b[0;34m\u001b[0m\u001b[0m\n\u001b[0m",
      "\u001b[0;31mAttributeError\u001b[0m: 'LabelEncoder' object has no attribute 'shape'"
     ]
    }
   ],
   "source": [
    "# labels \n",
    "class_labels = ['swipes', 'swipe', 'raiseLower', 'counterclockwise', 'clockwise', 'fist_form']\n",
    "class_labels_bin = preprocessing.LabelBinarizer().fit_transform(class_labels)\n",
    "\n",
    "print(class_labels_bin)"
   ]
  },
  {
   "cell_type": "code",
   "execution_count": 10,
   "metadata": {
    "scrolled": true
   },
   "outputs": [
    {
     "name": "stdout",
     "output_type": "stream",
     "text": [
      "(14834,)\n",
      "(1, 1, 14834, 1)\n"
     ]
    }
   ],
   "source": [
    "# # rolling mean of gesture, reduce noise\n",
    "# rollingMean_train = gesture.rolling(window = 100).mean()\n",
    "# rollingMean_train = rollingMean_train.dropna().drop_duplicates()\n",
    "\n",
    "# # define training data for gesture based on the rolling mean\n",
    "# y_train = np.array(rollingMean_train.values).astype(np.double)[:,0]\n",
    "# x_train = np.transpose(np.array(rollingMean_train.values))[..., np.newaxis]\n",
    "# x_train = np.expand_dims(x_train, axis=0)\n",
    "\n",
    "# # y_train = np.expand_dims(y_train, axis=-1)\n",
    "# # print(y_train.shape)\n",
    "\n",
    "# print(y_train.shape)\n",
    "# print(x_train.shape)"
   ]
  },
  {
   "cell_type": "code",
   "execution_count": null,
   "metadata": {},
   "outputs": [],
   "source": [
    "# normalize the data, scale the y axis (valtage)\n",
    "# min_max_scaler = preprocessing.MinMaxScaler()\n",
    "# y_scaled = min_max_scaler.fit_transform(y_train)\n",
    "\n",
    "# test plot\n",
    "#plt.scatter(x_train, y_train, label = \"Foo\")\n",
    "#plt.plot(x_train, y_scaled, label = \"Bar\")\n",
    "#plt.legend(loc='best')\n",
    "#plt.show()"
   ]
  },
  {
   "cell_type": "code",
   "execution_count": 55,
   "metadata": {
    "scrolled": true
   },
   "outputs": [
    {
     "name": "stdout",
     "output_type": "stream",
     "text": [
      "Tensor(\"input_5:0\", shape=(None, 14905, 1), dtype=float32)\n",
      "Model: \"model_4\"\n",
      "_________________________________________________________________\n",
      "Layer (type)                 Output Shape              Param #   \n",
      "=================================================================\n",
      "input_5 (InputLayer)         (None, 14905, 1)          0         \n",
      "_________________________________________________________________\n",
      "conv1d_26 (Conv1D)           (None, 14901, 16)         96        \n",
      "_________________________________________________________________\n",
      "conv1d_27 (Conv1D)           (None, 14897, 16)         1296      \n",
      "_________________________________________________________________\n",
      "max_pooling1d_10 (MaxPooling (None, 7448, 16)          0         \n",
      "_________________________________________________________________\n",
      "dropout_13 (Dropout)         (None, 7448, 16)          0         \n",
      "_________________________________________________________________\n",
      "conv1d_28 (Conv1D)           (None, 7446, 32)          1568      \n",
      "_________________________________________________________________\n",
      "conv1d_29 (Conv1D)           (None, 7444, 32)          3104      \n",
      "_________________________________________________________________\n",
      "max_pooling1d_11 (MaxPooling (None, 3722, 32)          0         \n",
      "_________________________________________________________________\n",
      "dropout_14 (Dropout)         (None, 3722, 32)          0         \n",
      "_________________________________________________________________\n",
      "conv1d_30 (Conv1D)           (None, 3720, 32)          3104      \n",
      "_________________________________________________________________\n",
      "conv1d_31 (Conv1D)           (None, 3718, 32)          3104      \n",
      "_________________________________________________________________\n",
      "max_pooling1d_12 (MaxPooling (None, 1859, 32)          0         \n",
      "_________________________________________________________________\n",
      "dropout_15 (Dropout)         (None, 1859, 32)          0         \n",
      "_________________________________________________________________\n",
      "conv1d_32 (Conv1D)           (None, 1857, 256)         24832     \n",
      "_________________________________________________________________\n",
      "conv1d_33 (Conv1D)           (None, 1855, 256)         196864    \n",
      "_________________________________________________________________\n",
      "global_max_pooling1d_4 (Glob (None, 256)               0         \n",
      "_________________________________________________________________\n",
      "dropout_16 (Dropout)         (None, 256)               0         \n",
      "_________________________________________________________________\n",
      "dense_1 (Dense)              (None, 64)                16448     \n",
      "_________________________________________________________________\n",
      "dense_2 (Dense)              (None, 64)                4160      \n",
      "_________________________________________________________________\n",
      "dense_3 (Dense)              (None, 6)                 390       \n",
      "=================================================================\n",
      "Total params: 254,966\n",
      "Trainable params: 254,966\n",
      "Non-trainable params: 0\n",
      "_________________________________________________________________\n"
     ]
    }
   ],
   "source": [
    "cnn_model = get_model(gestures_array[0, 0, :].shape)"
   ]
  },
  {
   "cell_type": "code",
   "execution_count": 93,
   "metadata": {
    "scrolled": true
   },
   "outputs": [
    {
     "name": "stdout",
     "output_type": "stream",
     "text": [
      "Epoch 1/50\n",
      "6/6 [==============================] - 1s 139ms/step - loss: 0.5034\n",
      "Epoch 2/50\n",
      "6/6 [==============================] - 1s 163ms/step - loss: 0.7054\n",
      "Epoch 3/50\n",
      "6/6 [==============================] - 1s 151ms/step - loss: 0.4684\n",
      "Epoch 4/50\n",
      "6/6 [==============================] - 1s 144ms/step - loss: 0.6065\n",
      "Epoch 5/50\n",
      "6/6 [==============================] - 1s 114ms/step - loss: 0.4352\n",
      "Epoch 6/50\n",
      "6/6 [==============================] - 1s 140ms/step - loss: 0.6564\n",
      "Epoch 7/50\n",
      "6/6 [==============================] - 1s 121ms/step - loss: 0.5779\n",
      "Epoch 8/50\n",
      "6/6 [==============================] - 1s 113ms/step - loss: 0.4782\n",
      "Epoch 9/50\n",
      "6/6 [==============================] - 1s 110ms/step - loss: 0.4030\n",
      "Epoch 10/50\n",
      "6/6 [==============================] - 1s 111ms/step - loss: 0.3662\n",
      "Epoch 11/50\n",
      "6/6 [==============================] - 1s 103ms/step - loss: 0.7113\n",
      "Epoch 12/50\n",
      "6/6 [==============================] - 1s 104ms/step - loss: 0.6014\n",
      "Epoch 13/50\n",
      "6/6 [==============================] - 1s 125ms/step - loss: 0.4417\n",
      "Epoch 14/50\n",
      "6/6 [==============================] - 1s 136ms/step - loss: 0.4688\n",
      "Epoch 15/50\n",
      "6/6 [==============================] - 1s 113ms/step - loss: 0.5110\n",
      "Epoch 16/50\n",
      "6/6 [==============================] - 1s 113ms/step - loss: 0.3454\n",
      "Epoch 17/50\n",
      "6/6 [==============================] - 1s 116ms/step - loss: 0.3586\n",
      "Epoch 18/50\n",
      "6/6 [==============================] - 1s 129ms/step - loss: 0.6180\n",
      "Epoch 19/50\n",
      "6/6 [==============================] - 1s 110ms/step - loss: 0.3423\n",
      "Epoch 20/50\n",
      "6/6 [==============================] - 1s 135ms/step - loss: 0.5747\n",
      "Epoch 21/50\n",
      "6/6 [==============================] - 1s 123ms/step - loss: 0.5350\n",
      "Epoch 22/50\n",
      "6/6 [==============================] - 1s 103ms/step - loss: 0.3143\n",
      "Epoch 23/50\n",
      "6/6 [==============================] - 1s 107ms/step - loss: 0.3568\n",
      "Epoch 24/50\n",
      "6/6 [==============================] - 1s 96ms/step - loss: 0.3116\n",
      "Epoch 25/50\n",
      "6/6 [==============================] - 1s 96ms/step - loss: 0.4940\n",
      "Epoch 26/50\n",
      "6/6 [==============================] - 1s 109ms/step - loss: 0.2741\n",
      "Epoch 27/50\n",
      "6/6 [==============================] - 1s 113ms/step - loss: 0.5105\n",
      "Epoch 28/50\n",
      "6/6 [==============================] - 1s 97ms/step - loss: 0.3925\n",
      "Epoch 29/50\n",
      "6/6 [==============================] - 1s 94ms/step - loss: 0.4201\n",
      "Epoch 30/50\n",
      "6/6 [==============================] - 1s 95ms/step - loss: 0.3152\n",
      "Epoch 31/50\n",
      "6/6 [==============================] - 1s 93ms/step - loss: 0.3804\n",
      "Epoch 32/50\n",
      "6/6 [==============================] - 1s 96ms/step - loss: 0.6703\n",
      "Epoch 33/50\n",
      "6/6 [==============================] - 1s 96ms/step - loss: 0.4724\n",
      "Epoch 34/50\n",
      "6/6 [==============================] - 1s 113ms/step - loss: 0.4207\n",
      "Epoch 35/50\n",
      "6/6 [==============================] - 1s 107ms/step - loss: 0.5224\n",
      "Epoch 36/50\n",
      "6/6 [==============================] - 1s 107ms/step - loss: 0.6946\n",
      "Epoch 37/50\n",
      "6/6 [==============================] - 1s 119ms/step - loss: 0.3376\n",
      "Epoch 38/50\n",
      "6/6 [==============================] - 1s 104ms/step - loss: 0.2496\n",
      "Epoch 39/50\n",
      "6/6 [==============================] - 1s 98ms/step - loss: 0.3310\n",
      "Epoch 40/50\n",
      "6/6 [==============================] - 1s 104ms/step - loss: 0.4183\n",
      "Epoch 41/50\n",
      "6/6 [==============================] - 1s 113ms/step - loss: 0.4382\n",
      "Epoch 42/50\n",
      "6/6 [==============================] - 1s 95ms/step - loss: 0.2203\n",
      "Epoch 43/50\n",
      "6/6 [==============================] - 1s 98ms/step - loss: 0.3631\n",
      "Epoch 44/50\n",
      "6/6 [==============================] - 1s 137ms/step - loss: 0.5315\n",
      "Epoch 45/50\n",
      "6/6 [==============================] - 1s 114ms/step - loss: 0.4407\n",
      "Epoch 46/50\n",
      "6/6 [==============================] - 1s 105ms/step - loss: 0.4283\n",
      "Epoch 47/50\n",
      "6/6 [==============================] - 1s 110ms/step - loss: 0.3125\n",
      "Epoch 48/50\n",
      "6/6 [==============================] - 1s 119ms/step - loss: 0.3250\n",
      "Epoch 49/50\n",
      "6/6 [==============================] - 1s 114ms/step - loss: 0.3127\n",
      "Epoch 50/50\n",
      "6/6 [==============================] - 1s 110ms/step - loss: 0.5761\n"
     ]
    },
    {
     "data": {
      "text/plain": [
       "<keras.callbacks.callbacks.History at 0x141ca6ed0>"
      ]
     },
     "execution_count": 93,
     "metadata": {},
     "output_type": "execute_result"
    }
   ],
   "source": [
    "# early = EarlyStopping(monitor=\"accuracy\", mode=\"max\", patience=5, verbose=1)\n",
    "# redonplat = ReduceLROnPlateau(monitor=\"accuracy\", mode=\"max\", patience=3, verbose=2)\n",
    "# callbacks_list = [early, redonplat]\n",
    "\n",
    "batch_size = 6\n",
    "\n",
    "x_train = gestures_array[:,0,:]\n",
    "class_train = np.arange(batch_size)\n",
    "# print(x_train.shape)\n",
    "# print(y_train)\n",
    "\n",
    "# fit data into the cnn model, training\n",
    "cnn_model.fit(x_train, class_train, epochs=50, verbose=1, batch_size=batch_size)"
   ]
  },
  {
   "cell_type": "code",
   "execution_count": 85,
   "metadata": {},
   "outputs": [
    {
     "name": "stdout",
     "output_type": "stream",
     "text": [
      "[5]\n"
     ]
    }
   ],
   "source": [
    "gesture_test = pd.read_csv('csv/test/fist_form_2.csv', delim_whitespace=False, header=[0, 1], index_col=0)\n",
    "#gesture_test = series_to_supervised(gesture_test, 79)\n",
    "# print(gesture_test.shape)\n",
    "\n",
    "# rolling mean of gesture, reduce noise\n",
    "rollingMean_test = gesture_test.rolling(window = 100).mean()\n",
    "rollingMean_test = rollingMean_test.dropna()\n",
    "\n",
    "# define training data for gesture based on the rolling mean\n",
    "class_true = np.array([0])\n",
    "x_test = np.transpose(np.array(rollingMean_test.values))[..., np.newaxis]\n",
    "# print(x_test.shape)\n",
    "# print(class_true.shape)\n",
    "\n",
    "# apply model on test data\n",
    "class_pred = cnn_model.predict(x_test)\n",
    "class_pred = np.argmax(class_pred, axis=-1)\n",
    "\n",
    "print(class_pred)\n",
    "\n",
    "# # f1 score, weighted average of the precision and recall, \n",
    "# # f1 score reaches its best value at 1 and worst score at 0.\n",
    "# f1 = f1_score(np.around(y_test), pred_test, average=\"macro\")\n",
    "# print(\"Test f1 score : %s \"% f1)\n",
    "\n",
    "# # accuracy score, set of labels predicted for a sample must exactly match the corresponding set of labels in y_true.\n",
    "# # accuracy score reaches its best value at 1 and worst score at 0.\n",
    "# acc = accuracy_score(np.around(y_test), pred_test)\n",
    "# print(\"Test accuracy score : %s\"% acc)"
   ]
  },
  {
   "cell_type": "code",
   "execution_count": 23,
   "metadata": {},
   "outputs": [],
   "source": [
    "# tests\n",
    "\n",
    "# inp =  Input(shape=(5, 1))\n",
    "# conv = Convolution1D(filters=2, kernel_size=2)(inp)\n",
    "# pool = MaxPool1D(pool_size=2)(conv)\n",
    "# flat = Flatten()(pool)\n",
    "# dense = Dense(1)(flat)\n",
    "# model = models.Model(inp, dense)\n",
    "# model.compile(loss='mse', optimizer='adam')\n",
    "\n",
    "# #print(model.summary())\n",
    "\n",
    "# # get some data\n",
    "# X = np.expand_dims(np.random.randn(10, 5), axis=2)\n",
    "# y = np.random.randn(10, 1)\n",
    "\n",
    "# print(X.shape)\n",
    "# print(y.shape)\n",
    "\n",
    "# # fit model\n",
    "# model.fit(X, y)"
   ]
  },
  {
   "cell_type": "markdown",
   "metadata": {},
   "source": [
    "# Plot Gestures"
   ]
  },
  {
   "cell_type": "code",
   "execution_count": null,
   "metadata": {},
   "outputs": [],
   "source": [
    "plt.rcParams.update({'font.size': 32})\n",
    "\n",
    "for gesture in gestures:\n",
    "    gestureDF, title = gesture\n",
    "    #gestureDF.columns = gestureDF.columns.droplevel(1)\n",
    "    plotTitle = title\n",
    "\n",
    "    rollingMean = gestureDF.rolling(window = 100).mean()\n",
    "    rollingMean = rollingMean.dropna().drop_duplicates()\n",
    "    rollingStd = gestureDF.rolling(window = 12).std()\n",
    "    #plt.plot(gestureDF, color = 'blue', label = 'Original')\n",
    "    plt.plot(rollingMean, color = 'red', label = 'Rolling Mean')\n",
    "    #plt.plot(rollingStd, color = 'black', label = 'Rolling STD')\n",
    "    #plt.legend(loc = 'best', prop={'size': 13})\n",
    "    #plt.title(plotTitle)\n",
    "    plt.xlabel('Time (s)')\n",
    "    plt.ylabel('Voltage (V)')\n",
    "    #minR = round(gestureDF.min().to_numpy()[0], 1)\n",
    "    #maxR = round(gestureDF.max().to_numpy()[0], 1)\n",
    "    #plt.yticks(np.arange(minR, maxR, step=0.3)) \n",
    "    plt.show()"
   ]
  },
  {
   "cell_type": "code",
   "execution_count": null,
   "metadata": {
    "scrolled": true
   },
   "outputs": [],
   "source": [
    "# plot the data\n",
    "\n",
    "#fistForm.shape\n",
    "#fistForm.head(3)\n",
    "gestures[:5]\n",
    "\n",
    "#handDetect['Channel A'].plot(linewidth=1);\n",
    "#fistForm['Channel A'].plot(linewidth=1);\n",
    "#clockwise['Channel A'].plot(linewidth=1);"
   ]
  },
  {
   "cell_type": "markdown",
   "metadata": {},
   "source": [
    "# tsfresh Tests"
   ]
  },
  {
   "cell_type": "code",
   "execution_count": null,
   "metadata": {},
   "outputs": [],
   "source": [
    "# extract features\n",
    "fistForm.reset_index(inplace=True)\n",
    "fistForm_features = tsfresh.extract_features(fistForm, column_id='index', n_jobs=4)\n",
    "\n",
    "#fistForm_features = tsfresh.extract_features(fistForm)\n",
    "\n",
    "#clockwise_features = tsfresh.extract_features(clockwise)\n",
    "\n",
    "#counterclockwise_features = tsfresh.extract_features(counterclockwise)\n",
    "\n",
    "#swipes_features = tsfresh.extract_features(swipes)\n",
    "\n",
    "#swipe_features = tsfresh.extract_features(swipe)\n",
    "\n",
    "#raiseLower_features = tsfresh.extract_features(raiseLower)"
   ]
  },
  {
   "cell_type": "code",
   "execution_count": null,
   "metadata": {
    "scrolled": true
   },
   "outputs": [],
   "source": [
    "from tsfresh.utilities.dataframe_functions import impute\n",
    "\n",
    "impute(handDetect_features)"
   ]
  },
  {
   "cell_type": "code",
   "execution_count": null,
   "metadata": {
    "scrolled": false
   },
   "outputs": [],
   "source": [
    "#handDetect_features.head()\n",
    "#handDetect.resample('3T').sum()\n",
    "#handDetect.describe()"
   ]
  },
  {
   "cell_type": "code",
   "execution_count": 19,
   "metadata": {},
   "outputs": [
    {
     "name": "stdout",
     "output_type": "stream",
     "text": [
      "0.1\n",
      "-0.1\n",
      "-1.1\n",
      "0.1\n",
      "0.1\n",
      "-0.9\n",
      "-0.2\n"
     ]
    }
   ],
   "source": [
    "for gesture in gestures:\n",
    "    gestureDF, title = gesture\n",
    "    print(round(gestureDF.max().to_numpy()[0], 1))"
   ]
  },
  {
   "cell_type": "code",
   "execution_count": null,
   "metadata": {},
   "outputs": [],
   "source": [
    "# tests\n",
    "\n",
    "# import mass_ts as mts\n",
    "\n",
    "# ts = handDetect3.to_numpy()\n",
    "# q = handDetect.to_numpy()\n",
    "\n",
    "# print(handDetect3[:,0])\n",
    "\n",
    "# # mass\n",
    "# distances = mts.mass(ts[:,0], q[:,0])\n",
    "\n",
    "# # mass2\n",
    "# distances = mts.mass2(ts[:,0], q[:,0])\n",
    "\n",
    "# # mass3\n",
    "# #distances = mts.mass3(ts[:,0], q[:,0], 256)\n",
    "\n",
    "# # mass2_batch\n",
    "# # start a multi-threaded batch job with all cpu cores and give me the top 5 matches.\n",
    "# # note that batch_size partitions your time series into a subsequence similarity search.\n",
    "# # even for large time series in single threaded mode, this is much more memory efficient than\n",
    "# # MASS2 on its own.\n",
    "# batch_size = 10000\n",
    "# top_matches = 5\n",
    "# n_jobs = 3\n",
    "# indices, distances = mts.mass2_batch(ts[:,0], q[:,0], batch_size, \n",
    "#     top_matches=top_matches, n_jobs=n_jobs)\n",
    "\n",
    "# # find minimum distance\n",
    "# min_idx = np.argmin(distances)\n",
    "\n",
    "# # find top 4 motif starting indices\n",
    "# k = 4\n",
    "# exclusion_zone = 25\n",
    "# top_motifs = mts.top_k_motifs(distances, k, exclusion_zone)\n",
    "\n",
    "# # find top 4 discord starting indices\n",
    "# k = 4\n",
    "# exclusion_zone = 25\n",
    "# top_discords = mts.top_k_discords(distances, k, exclusion_zone)"
   ]
  },
  {
   "cell_type": "markdown",
   "metadata": {},
   "source": [
    "# Wavelet analysis"
   ]
  },
  {
   "cell_type": "code",
   "execution_count": 3,
   "metadata": {},
   "outputs": [
    {
     "data": {
      "text/plain": [
       "array([[0.00000000e+00, 1.14749600e-01],\n",
       "       [3.33340000e-04, 9.76592300e-02],\n",
       "       [6.66690000e-04, 1.01016300e-01],\n",
       "       ...,\n",
       "       [5.00049351e+00, 6.40888700e-02],\n",
       "       [5.00082685e+00, 4.36414700e-02],\n",
       "       [5.00116020e+00, 3.32651700e-02]])"
      ]
     },
     "execution_count": 3,
     "metadata": {},
     "output_type": "execute_result"
    }
   ],
   "source": [
    "import pywt\n",
    "x = handDetect.values\n",
    "# Discrete Wavelet Transform\n",
    "#cA, cD = pywt.dwt(x, 'db2')\n",
    "#x2 = pywt.idwt(cA, cD, 'db2')\n",
    "x"
   ]
  },
  {
   "cell_type": "code",
   "execution_count": 16,
   "metadata": {},
   "outputs": [
    {
     "name": "stdout",
     "output_type": "stream",
     "text": [
      "Mode: 0 (zero)\n",
      "Mode: 2 (constant)\n",
      "Mode: 1 (symmetric)\n",
      "Mode: 6 (reflect)\n",
      "Mode: 4 (periodic)\n",
      "Mode: 3 (smooth)\n",
      "Mode: 5 (periodization)\n"
     ]
    }
   ],
   "source": [
    "# for mode_name in ['zero', 'constant', 'symmetric', 'reflect', 'periodic', 'smooth', 'periodization']:\n",
    "#     mode = getattr(pywt.Modes, mode_name)\n",
    "#     cA, cD = pywt.dwt(x, 'db2', mode)\n",
    "#     print(\"Mode: %d (%s)\" % (mode, mode_name))"
   ]
  },
  {
   "cell_type": "code",
   "execution_count": 4,
   "metadata": {},
   "outputs": [],
   "source": [
    "wp = pywt.WaveletPacket2D(data=x, wavelet='db1')"
   ]
  },
  {
   "cell_type": "code",
   "execution_count": 5,
   "metadata": {},
   "outputs": [
    {
     "data": {
      "text/plain": [
       "array([[0.00000000e+00, 1.14749600e-01],\n",
       "       [3.33340000e-04, 9.76592300e-02],\n",
       "       [6.66690000e-04, 1.01016300e-01],\n",
       "       ...,\n",
       "       [5.00049351e+00, 6.40888700e-02],\n",
       "       [5.00082685e+00, 4.36414700e-02],\n",
       "       [5.00116020e+00, 3.32651700e-02]])"
      ]
     },
     "execution_count": 5,
     "metadata": {},
     "output_type": "execute_result"
    }
   ],
   "source": [
    "wp.data"
   ]
  },
  {
   "cell_type": "code",
   "execution_count": 6,
   "metadata": {},
   "outputs": [
    {
     "data": {
      "text/plain": [
       "array([[0.10637109],\n",
       "       [0.11298891],\n",
       "       [0.1331874 ],\n",
       "       ...,\n",
       "       [5.09976086],\n",
       "       [5.06700978],\n",
       "       [5.03944685]])"
      ]
     },
     "execution_count": 6,
     "metadata": {},
     "output_type": "execute_result"
    }
   ],
   "source": [
    "wp['a'].data"
   ]
  },
  {
   "cell_type": "code",
   "execution_count": null,
   "metadata": {},
   "outputs": [],
   "source": []
  }
 ],
 "metadata": {
  "kernelspec": {
   "display_name": "Python 3",
   "language": "python",
   "name": "python3"
  },
  "language_info": {
   "codemirror_mode": {
    "name": "ipython",
    "version": 3
   },
   "file_extension": ".py",
   "mimetype": "text/x-python",
   "name": "python",
   "nbconvert_exporter": "python",
   "pygments_lexer": "ipython3",
   "version": "3.7.5"
  }
 },
 "nbformat": 4,
 "nbformat_minor": 2
}
