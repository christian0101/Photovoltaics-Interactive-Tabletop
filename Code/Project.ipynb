{
 "cells": [
  {
   "cell_type": "markdown",
   "metadata": {},
   "source": [
    "# Photovoltaics Interactive Tabletop\n",
    "## Cristian Sorescu 879091"
   ]
  },
  {
   "cell_type": "code",
   "execution_count": 1,
   "metadata": {},
   "outputs": [
    {
     "name": "stderr",
     "output_type": "stream",
     "text": [
      "Using TensorFlow backend.\n"
     ]
    }
   ],
   "source": [
    "# imports\n",
    "\n",
    "import numpy as np\n",
    "import pandas as pd\n",
    "import tsfresh\n",
    "import matplotlib.pyplot as plt\n",
    "from sklearn import preprocessing\n",
    "from keras import optimizers, losses, activations, models\n",
    "from keras.callbacks import ModelCheckpoint, EarlyStopping, LearningRateScheduler, ReduceLROnPlateau\n",
    "from keras.layers import Dense, Input, Flatten, Dropout, Convolution1D, MaxPool1D, GlobalMaxPool1D, GlobalAveragePooling1D, \\\n",
    "    concatenate\n",
    "from sklearn.metrics import f1_score, accuracy_score"
   ]
  },
  {
   "cell_type": "code",
   "execution_count": 131,
   "metadata": {},
   "outputs": [],
   "source": [
    "# functions\n",
    "\n",
    "def series_to_supervised(data, n_in=1, n_out=1, dropnan=True):\n",
    "    n_vars = 1 if type(data) is list else data.shape[1]\n",
    "    df = data\n",
    "    cols, names = list(), list()\n",
    "    # input sequence (t-n, ... t-1)\n",
    "    for i in range(n_in, 0, -1):\n",
    "        cols.append(df.shift(i))\n",
    "        names += [('var%d(t-%d)' % (j+1, i)) for j in range(n_vars)]\n",
    "    # forecast sequence (t, t+1, ... t+n)\n",
    "    for i in range(0, n_out):\n",
    "        cols.append(df.shift(-i))\n",
    "        if i == 0:\n",
    "            names += [('var%d(t)' % (j+1)) for j in range(n_vars)]\n",
    "        else:\n",
    "            names += [('var%d(t+%d)' % (j+1, i)) for j in range(n_vars)]\n",
    "    # put it all together\n",
    "    agg = pd.concat(cols, axis=1)\n",
    "    agg.columns = names\n",
    "    # drop rows with NaN values\n",
    "    if dropnan:\n",
    "        agg.dropna(inplace=True)\n",
    "    return agg\n",
    "\n",
    "# cnn model\n",
    "def get_model(_shape):\n",
    "    nclass = 5\n",
    "    inp = Input(shape=_shape)\n",
    "    print(inp)\n",
    "    img_1 = Convolution1D(16, kernel_size=5, activation=activations.relu, padding=\"valid\")(inp)\n",
    "    img_1 = Convolution1D(16, kernel_size=5, activation=activations.relu, padding=\"valid\")(img_1)\n",
    "    img_1 = MaxPool1D(pool_size=2)(img_1)\n",
    "    img_1 = Dropout(rate=0.1)(img_1)\n",
    "    img_1 = Convolution1D(32, kernel_size=3, activation=activations.relu, padding=\"valid\")(img_1)\n",
    "    img_1 = Convolution1D(32, kernel_size=3, activation=activations.relu, padding=\"valid\")(img_1)\n",
    "    img_1 = MaxPool1D(pool_size=2)(img_1)\n",
    "    img_1 = Dropout(rate=0.1)(img_1)\n",
    "    img_1 = Convolution1D(32, kernel_size=3, activation=activations.relu, padding=\"valid\")(img_1)\n",
    "    img_1 = Convolution1D(32, kernel_size=3, activation=activations.relu, padding=\"valid\")(img_1)\n",
    "    img_1 = MaxPool1D(pool_size=2)(img_1)\n",
    "    img_1 = Dropout(rate=0.1)(img_1)\n",
    "    img_1 = Convolution1D(256, kernel_size=3, activation=activations.relu, padding=\"valid\")(img_1)\n",
    "    img_1 = Convolution1D(256, kernel_size=3, activation=activations.relu, padding=\"valid\")(img_1)\n",
    "    img_1 = GlobalMaxPool1D()(img_1)\n",
    "    img_1 = Dropout(rate=0.2)(img_1)\n",
    "\n",
    "    dense_1 = Dense(64, activation=activations.relu, name=\"dense_1\")(img_1)\n",
    "    dense_1 = Dense(64, activation=activations.relu, name=\"dense_2\")(dense_1)\n",
    "    dense_1 = Dense(nclass, activation=activations.softmax, name=\"dense_3\")(dense_1)\n",
    "\n",
    "    model = models.Model(inputs=inp, outputs=dense_1)\n",
    "    opt = optimizers.Adam(0.001)\n",
    "\n",
    "    model.compile(optimizer=opt, loss=losses.sparse_categorical_crossentropy) # metrics=['accuracy']\n",
    "    model.summary()\n",
    "    return model"
   ]
  },
  {
   "cell_type": "code",
   "execution_count": 132,
   "metadata": {},
   "outputs": [
    {
     "name": "stdout",
     "output_type": "stream",
     "text": [
      "(14925, 80)\n"
     ]
    }
   ],
   "source": [
    "# gestures data\n",
    "gestures = []\n",
    "\n",
    "# fist formation gesture\n",
    "handDetect = pd.read_csv('csv/hand_detected_1.csv', delim_whitespace=False, header=[0, 1], index_col=0)\n",
    "gestures.append([handDetect, 'Hand Detetction'])\n",
    "# fist formation gesture\n",
    "fistForm = pd.read_csv('csv/fist_form_1.csv', delim_whitespace=False, header=[0, 1], index_col=0)\n",
    "gestures.append([fistForm, 'Fist Formation'])\n",
    "# clockwise motion gesture\n",
    "clockwise = pd.read_csv('csv/clockwise_1.csv', delim_whitespace=False, header=[0, 1], index_col=0)\n",
    "gestures.append([clockwise, 'Clockwise Motion'])\n",
    "# counterclockwise motion gesture\n",
    "counterclockwise = pd.read_csv('csv/counterclockwise_2.csv', delim_whitespace=False, header=[0, 1], index_col=0)\n",
    "gestures.append([counterclockwise, 'Counterclockwise Motion'])\n",
    "# continuous swipes motion gesture\n",
    "swipe = pd.read_csv('csv/swipe_1.csv', delim_whitespace=False, header=[0, 1], index_col=0)\n",
    "gestures.append([swipe, 'Singular Swipe'])\n",
    "# singular swipe motion gesture\n",
    "swipes = pd.read_csv('csv/swipes_1.csv', delim_whitespace=False, header=[0, 1], index_col=0)\n",
    "gestures.append([swipes, 'Continuous Swipes'])\n",
    "# raise and Lower hand motion\n",
    "raiseLower = pd.read_csv('csv/raiseLower_1.csv', delim_whitespace=False, header=[0, 1], index_col=0)\n",
    "gestures.append([raiseLower, 'Raise/Lower Hand Motion'])\n",
    "\n",
    "# testing\n",
    "gesture = fistForm\n",
    "\n",
    "gesture = series_to_supervised(gesture, 79)\n",
    "print(gesture.shape)"
   ]
  },
  {
   "cell_type": "code",
   "execution_count": 133,
   "metadata": {
    "scrolled": true
   },
   "outputs": [
    {
     "name": "stdout",
     "output_type": "stream",
     "text": [
      "(14826, 80, 1)\n",
      "(14826,)\n"
     ]
    }
   ],
   "source": [
    "# rolling mean of gesture, reduce noise\n",
    "rollingMean1 = gesture.rolling(window = 100).mean()\n",
    "rollingMean1 = rollingMean1.dropna().drop_duplicates()\n",
    "\n",
    "# define training data for gesture based on the rolling mean\n",
    "y_train = np.array(abs(rollingMean1.values)).astype(np.double)[:,0]\n",
    "x_train = np.array(abs(rollingMean1.values))[..., np.newaxis]\n",
    "\n",
    "# y_train = np.expand_dims(y_train, axis=-1)\n",
    "# print(y_train.shape)\n",
    "# x_train = np.expand_dims(x_train, axis=0)\n",
    "\n",
    "print(x_train.shape)\n",
    "print(y_train.shape)"
   ]
  },
  {
   "cell_type": "code",
   "execution_count": 134,
   "metadata": {},
   "outputs": [],
   "source": [
    "# normalize the data, scale the y axis (valtage)\n",
    "# min_max_scaler = preprocessing.MinMaxScaler()\n",
    "# y_scaled = min_max_scaler.fit_transform(y_train)\n",
    "\n",
    "# test plot\n",
    "# plt.plot(x_train, y_train, label = \"Foo\")\n",
    "# plt.plot(x_train, y_scaled, label = \"Bar\")\n",
    "# plt.legend(loc='best')\n",
    "# plt.show()"
   ]
  },
  {
   "cell_type": "code",
   "execution_count": 135,
   "metadata": {},
   "outputs": [
    {
     "name": "stdout",
     "output_type": "stream",
     "text": [
      "Tensor(\"input_15:0\", shape=(None, 80, 1), dtype=float32)\n",
      "Model: \"model_9\"\n",
      "_________________________________________________________________\n",
      "Layer (type)                 Output Shape              Param #   \n",
      "=================================================================\n",
      "input_15 (InputLayer)        (None, 80, 1)             0         \n",
      "_________________________________________________________________\n",
      "conv1d_105 (Conv1D)          (None, 76, 16)            96        \n",
      "_________________________________________________________________\n",
      "conv1d_106 (Conv1D)          (None, 72, 16)            1296      \n",
      "_________________________________________________________________\n",
      "max_pooling1d_41 (MaxPooling (None, 36, 16)            0         \n",
      "_________________________________________________________________\n",
      "dropout_49 (Dropout)         (None, 36, 16)            0         \n",
      "_________________________________________________________________\n",
      "conv1d_107 (Conv1D)          (None, 34, 32)            1568      \n",
      "_________________________________________________________________\n",
      "conv1d_108 (Conv1D)          (None, 32, 32)            3104      \n",
      "_________________________________________________________________\n",
      "max_pooling1d_42 (MaxPooling (None, 16, 32)            0         \n",
      "_________________________________________________________________\n",
      "dropout_50 (Dropout)         (None, 16, 32)            0         \n",
      "_________________________________________________________________\n",
      "conv1d_109 (Conv1D)          (None, 14, 32)            3104      \n",
      "_________________________________________________________________\n",
      "conv1d_110 (Conv1D)          (None, 12, 32)            3104      \n",
      "_________________________________________________________________\n",
      "max_pooling1d_43 (MaxPooling (None, 6, 32)             0         \n",
      "_________________________________________________________________\n",
      "dropout_51 (Dropout)         (None, 6, 32)             0         \n",
      "_________________________________________________________________\n",
      "conv1d_111 (Conv1D)          (None, 4, 256)            24832     \n",
      "_________________________________________________________________\n",
      "conv1d_112 (Conv1D)          (None, 2, 256)            196864    \n",
      "_________________________________________________________________\n",
      "global_max_pooling1d_9 (Glob (None, 256)               0         \n",
      "_________________________________________________________________\n",
      "dropout_52 (Dropout)         (None, 256)               0         \n",
      "_________________________________________________________________\n",
      "dense_1 (Dense)              (None, 64)                16448     \n",
      "_________________________________________________________________\n",
      "dense_2 (Dense)              (None, 64)                4160      \n",
      "_________________________________________________________________\n",
      "dense_3 (Dense)              (None, 5)                 325       \n",
      "=================================================================\n",
      "Total params: 254,901\n",
      "Trainable params: 254,901\n",
      "Non-trainable params: 0\n",
      "_________________________________________________________________\n"
     ]
    }
   ],
   "source": [
    "model = get_model(x_train[0, :].shape)"
   ]
  },
  {
   "cell_type": "code",
   "execution_count": 136,
   "metadata": {},
   "outputs": [
    {
     "name": "stdout",
     "output_type": "stream",
     "text": [
      "Epoch 1/30\n",
      "14826/14826 [==============================] - 10s 680us/step - loss: 0.0240\n",
      "Epoch 2/30\n",
      "14826/14826 [==============================] - 9s 604us/step - loss: 0.0000e+00\n",
      "Epoch 3/30\n",
      "14826/14826 [==============================] - 9s 603us/step - loss: 0.0000e+00\n",
      "Epoch 4/30\n",
      "14826/14826 [==============================] - 9s 610us/step - loss: 0.0000e+00\n",
      "Epoch 5/30\n",
      "14826/14826 [==============================] - 9s 604us/step - loss: 0.0000e+00\n",
      "Epoch 6/30\n",
      "14826/14826 [==============================] - 9s 611us/step - loss: 0.0000e+00\n",
      "Epoch 7/30\n",
      "14826/14826 [==============================] - 9s 610us/step - loss: 0.0000e+00\n",
      "Epoch 8/30\n",
      "14826/14826 [==============================] - 9s 611us/step - loss: 0.0000e+00\n",
      "Epoch 9/30\n",
      "14826/14826 [==============================] - 9s 607us/step - loss: 0.0000e+00\n",
      "Epoch 10/30\n",
      "14826/14826 [==============================] - 9s 611us/step - loss: 0.0000e+00\n",
      "Epoch 11/30\n",
      "14826/14826 [==============================] - 9s 613us/step - loss: 0.0000e+00\n",
      "Epoch 12/30\n",
      "14826/14826 [==============================] - 10s 655us/step - loss: 0.0000e+00\n",
      "Epoch 13/30\n",
      "14826/14826 [==============================] - 9s 625us/step - loss: 0.0000e+00\n",
      "Epoch 14/30\n",
      "14826/14826 [==============================] - 10s 644us/step - loss: 0.0000e+00\n",
      "Epoch 15/30\n",
      "14826/14826 [==============================] - 9s 632us/step - loss: 0.0000e+00\n",
      "Epoch 16/30\n",
      "14826/14826 [==============================] - 9s 631us/step - loss: 0.0000e+00\n",
      "Epoch 17/30\n",
      "14826/14826 [==============================] - 9s 634us/step - loss: 0.0000e+00\n",
      "Epoch 18/30\n",
      "14826/14826 [==============================] - 10s 649us/step - loss: 0.0000e+00\n",
      "Epoch 19/30\n",
      "14826/14826 [==============================] - 9s 619us/step - loss: 0.0000e+00\n",
      "Epoch 20/30\n",
      "14826/14826 [==============================] - 12s 805us/step - loss: 0.0000e+00\n",
      "Epoch 21/30\n",
      "14826/14826 [==============================] - 10s 651us/step - loss: 0.0000e+00\n",
      "Epoch 22/30\n",
      "14826/14826 [==============================] - 10s 644us/step - loss: 0.0000e+00\n",
      "Epoch 23/30\n",
      "14826/14826 [==============================] - 10s 644us/step - loss: 0.0000e+00\n",
      "Epoch 24/30\n",
      "14826/14826 [==============================] - 10s 644us/step - loss: 0.0000e+00\n",
      "Epoch 25/30\n",
      "14826/14826 [==============================] - 9s 639us/step - loss: 0.0000e+00\n",
      "Epoch 26/30\n",
      "14826/14826 [==============================] - 10s 678us/step - loss: 0.0000e+00\n",
      "Epoch 27/30\n",
      "14826/14826 [==============================] - 10s 670us/step - loss: 0.0000e+00\n",
      "Epoch 28/30\n",
      "14826/14826 [==============================] - 10s 671us/step - loss: 0.0000e+00\n",
      "Epoch 29/30\n",
      "14826/14826 [==============================] - 10s 676us/step - loss: 0.0000e+00\n",
      "Epoch 30/30\n",
      "14826/14826 [==============================] - 11s 748us/step - loss: 0.0000e+00\n"
     ]
    },
    {
     "data": {
      "text/plain": [
       "<keras.callbacks.callbacks.History at 0x1410d0d50>"
      ]
     },
     "execution_count": 136,
     "metadata": {},
     "output_type": "execute_result"
    }
   ],
   "source": [
    "# early = EarlyStopping(monitor=\"accuracy\", mode=\"max\", patience=5, verbose=1)\n",
    "# redonplat = ReduceLROnPlateau(monitor=\"accuracy\", mode=\"max\", patience=3, verbose=2)\n",
    "# callbacks_list = [early, redonplat]\n",
    "\n",
    "# fit data into model, training\n",
    "model.fit(x_train, y_train, epochs=30, verbose=1)"
   ]
  },
  {
   "cell_type": "code",
   "execution_count": 148,
   "metadata": {},
   "outputs": [
    {
     "name": "stdout",
     "output_type": "stream",
     "text": [
      "Test f1 score : 1.0 \n",
      "Test accuracy score : 1.0\n"
     ]
    }
   ],
   "source": [
    "gesture_test = pd.read_csv('csv/fist_form_2.csv', delim_whitespace=False, header=[0, 1], index_col=0)\n",
    "gesture_test = series_to_supervised(gesture_test, 79)\n",
    "# print(gesture_test.shape)\n",
    "\n",
    "# rolling mean of gesture, reduce noise\n",
    "rollingMean_test = gesture_test.rolling(window = 100).mean()\n",
    "rollingMean_test = rollingMean_test.dropna().drop_duplicates()\n",
    "\n",
    "# define training data for gesture based on the rolling mean\n",
    "y_test = np.array(abs(rollingMean_test.values)).astype(np.double)[:,0]\n",
    "x_test = np.array(abs(rollingMean_test.values))[..., np.newaxis]\n",
    "\n",
    "# print(x_test.shape)\n",
    "# print(y_test.shape)\n",
    "\n",
    "pred_test = model.predict(x_test)\n",
    "pred_test = np.argmax(pred_test, axis=-1)\n",
    "\n",
    "f1 = f1_score(np.around(y_test), pred_test, average=\"macro\")\n",
    "\n",
    "print(\"Test f1 score : %s \"% f1)\n",
    "\n",
    "acc = accuracy_score(np.around(y_test), pred_test)\n",
    "\n",
    "print(\"Test accuracy score : %s\"% acc)"
   ]
  },
  {
   "cell_type": "code",
   "execution_count": 128,
   "metadata": {},
   "outputs": [],
   "source": [
    "# tests\n",
    "\n",
    "# inp =  Input(shape=(5, 1))\n",
    "# conv = Convolution1D(filters=2, kernel_size=2)(inp)\n",
    "# pool = MaxPool1D(pool_size=2)(conv)\n",
    "# flat = Flatten()(pool)\n",
    "# dense = Dense(1)(flat)\n",
    "# model = models.Model(inp, dense)\n",
    "# model.compile(loss='mse', optimizer='adam')\n",
    "\n",
    "# #print(model.summary())\n",
    "\n",
    "# # get some data\n",
    "# X = np.expand_dims(np.random.randn(10, 5), axis=2)\n",
    "# y = np.random.randn(10, 1)\n",
    "\n",
    "# print(X.shape)\n",
    "# print(y.shape)\n",
    "\n",
    "# # fit model\n",
    "# model.fit(X, y)"
   ]
  },
  {
   "cell_type": "markdown",
   "metadata": {},
   "source": [
    "# Plot Gestures"
   ]
  },
  {
   "cell_type": "code",
   "execution_count": null,
   "metadata": {},
   "outputs": [],
   "source": [
    "plt.rcParams.update({'font.size': 32})\n",
    "\n",
    "for gesture in gestures:\n",
    "    gestureDF, title = gesture\n",
    "    #gestureDF.columns = gestureDF.columns.droplevel(1)\n",
    "    plotTitle = title\n",
    "\n",
    "    rollingMean = gestureDF.rolling(window = 100).mean()\n",
    "    rollingMean = rollingMean.dropna().drop_duplicates()\n",
    "    rollingStd = gestureDF.rolling(window = 12).std()\n",
    "    #plt.plot(gestureDF, color = 'blue', label = 'Original')\n",
    "    plt.plot(rollingMean, color = 'red', label = 'Rolling Mean')\n",
    "    #plt.plot(rollingStd, color = 'black', label = 'Rolling STD')\n",
    "    #plt.legend(loc = 'best', prop={'size': 13})\n",
    "    #plt.title(plotTitle)\n",
    "    plt.xlabel('Time (s)')\n",
    "    plt.ylabel('Voltage (V)')\n",
    "    #minR = round(gestureDF.min().to_numpy()[0], 1)\n",
    "    #maxR = round(gestureDF.max().to_numpy()[0], 1)\n",
    "    #plt.yticks(np.arange(minR, maxR, step=0.3)) \n",
    "    plt.show()"
   ]
  },
  {
   "cell_type": "code",
   "execution_count": null,
   "metadata": {
    "scrolled": true
   },
   "outputs": [],
   "source": [
    "# plot the data\n",
    "\n",
    "#fistForm.shape\n",
    "#fistForm.head(3)\n",
    "gestures[:5]\n",
    "\n",
    "#handDetect['Channel A'].plot(linewidth=1);\n",
    "#fistForm['Channel A'].plot(linewidth=1);\n",
    "#clockwise['Channel A'].plot(linewidth=1);"
   ]
  },
  {
   "cell_type": "markdown",
   "metadata": {},
   "source": [
    "# tsfresh Tests"
   ]
  },
  {
   "cell_type": "code",
   "execution_count": null,
   "metadata": {},
   "outputs": [],
   "source": [
    "# extract features\n",
    "fistForm.reset_index(inplace=True)\n",
    "fistForm_features = tsfresh.extract_features(fistForm, column_id='index', n_jobs=4)\n",
    "\n",
    "#fistForm_features = tsfresh.extract_features(fistForm)\n",
    "\n",
    "#clockwise_features = tsfresh.extract_features(clockwise)\n",
    "\n",
    "#counterclockwise_features = tsfresh.extract_features(counterclockwise)\n",
    "\n",
    "#swipes_features = tsfresh.extract_features(swipes)\n",
    "\n",
    "#swipe_features = tsfresh.extract_features(swipe)\n",
    "\n",
    "#raiseLower_features = tsfresh.extract_features(raiseLower)"
   ]
  },
  {
   "cell_type": "code",
   "execution_count": null,
   "metadata": {
    "scrolled": true
   },
   "outputs": [],
   "source": [
    "from tsfresh.utilities.dataframe_functions import impute\n",
    "\n",
    "impute(handDetect_features)"
   ]
  },
  {
   "cell_type": "code",
   "execution_count": null,
   "metadata": {
    "scrolled": false
   },
   "outputs": [],
   "source": [
    "#handDetect_features.head()\n",
    "#handDetect.resample('3T').sum()\n",
    "#handDetect.describe()"
   ]
  },
  {
   "cell_type": "code",
   "execution_count": 19,
   "metadata": {},
   "outputs": [
    {
     "name": "stdout",
     "output_type": "stream",
     "text": [
      "0.1\n",
      "-0.1\n",
      "-1.1\n",
      "0.1\n",
      "0.1\n",
      "-0.9\n",
      "-0.2\n"
     ]
    }
   ],
   "source": [
    "for gesture in gestures:\n",
    "    gestureDF, title = gesture\n",
    "    print(round(gestureDF.max().to_numpy()[0], 1))"
   ]
  },
  {
   "cell_type": "code",
   "execution_count": null,
   "metadata": {},
   "outputs": [],
   "source": [
    "# tests\n",
    "\n",
    "# import mass_ts as mts\n",
    "\n",
    "# ts = handDetect3.to_numpy()\n",
    "# q = handDetect.to_numpy()\n",
    "\n",
    "# print(handDetect3[:,0])\n",
    "\n",
    "# # mass\n",
    "# distances = mts.mass(ts[:,0], q[:,0])\n",
    "\n",
    "# # mass2\n",
    "# distances = mts.mass2(ts[:,0], q[:,0])\n",
    "\n",
    "# # mass3\n",
    "# #distances = mts.mass3(ts[:,0], q[:,0], 256)\n",
    "\n",
    "# # mass2_batch\n",
    "# # start a multi-threaded batch job with all cpu cores and give me the top 5 matches.\n",
    "# # note that batch_size partitions your time series into a subsequence similarity search.\n",
    "# # even for large time series in single threaded mode, this is much more memory efficient than\n",
    "# # MASS2 on its own.\n",
    "# batch_size = 10000\n",
    "# top_matches = 5\n",
    "# n_jobs = 3\n",
    "# indices, distances = mts.mass2_batch(ts[:,0], q[:,0], batch_size, \n",
    "#     top_matches=top_matches, n_jobs=n_jobs)\n",
    "\n",
    "# # find minimum distance\n",
    "# min_idx = np.argmin(distances)\n",
    "\n",
    "# # find top 4 motif starting indices\n",
    "# k = 4\n",
    "# exclusion_zone = 25\n",
    "# top_motifs = mts.top_k_motifs(distances, k, exclusion_zone)\n",
    "\n",
    "# # find top 4 discord starting indices\n",
    "# k = 4\n",
    "# exclusion_zone = 25\n",
    "# top_discords = mts.top_k_discords(distances, k, exclusion_zone)"
   ]
  },
  {
   "cell_type": "markdown",
   "metadata": {},
   "source": [
    "# Wavelet analysis"
   ]
  },
  {
   "cell_type": "code",
   "execution_count": 3,
   "metadata": {},
   "outputs": [
    {
     "data": {
      "text/plain": [
       "array([[0.00000000e+00, 1.14749600e-01],\n",
       "       [3.33340000e-04, 9.76592300e-02],\n",
       "       [6.66690000e-04, 1.01016300e-01],\n",
       "       ...,\n",
       "       [5.00049351e+00, 6.40888700e-02],\n",
       "       [5.00082685e+00, 4.36414700e-02],\n",
       "       [5.00116020e+00, 3.32651700e-02]])"
      ]
     },
     "execution_count": 3,
     "metadata": {},
     "output_type": "execute_result"
    }
   ],
   "source": [
    "import pywt\n",
    "x = handDetect.values\n",
    "# Discrete Wavelet Transform\n",
    "#cA, cD = pywt.dwt(x, 'db2')\n",
    "#x2 = pywt.idwt(cA, cD, 'db2')\n",
    "x"
   ]
  },
  {
   "cell_type": "code",
   "execution_count": 16,
   "metadata": {},
   "outputs": [
    {
     "name": "stdout",
     "output_type": "stream",
     "text": [
      "Mode: 0 (zero)\n",
      "Mode: 2 (constant)\n",
      "Mode: 1 (symmetric)\n",
      "Mode: 6 (reflect)\n",
      "Mode: 4 (periodic)\n",
      "Mode: 3 (smooth)\n",
      "Mode: 5 (periodization)\n"
     ]
    }
   ],
   "source": [
    "# for mode_name in ['zero', 'constant', 'symmetric', 'reflect', 'periodic', 'smooth', 'periodization']:\n",
    "#     mode = getattr(pywt.Modes, mode_name)\n",
    "#     cA, cD = pywt.dwt(x, 'db2', mode)\n",
    "#     print(\"Mode: %d (%s)\" % (mode, mode_name))"
   ]
  },
  {
   "cell_type": "code",
   "execution_count": 4,
   "metadata": {},
   "outputs": [],
   "source": [
    "wp = pywt.WaveletPacket2D(data=x, wavelet='db1')"
   ]
  },
  {
   "cell_type": "code",
   "execution_count": 5,
   "metadata": {},
   "outputs": [
    {
     "data": {
      "text/plain": [
       "array([[0.00000000e+00, 1.14749600e-01],\n",
       "       [3.33340000e-04, 9.76592300e-02],\n",
       "       [6.66690000e-04, 1.01016300e-01],\n",
       "       ...,\n",
       "       [5.00049351e+00, 6.40888700e-02],\n",
       "       [5.00082685e+00, 4.36414700e-02],\n",
       "       [5.00116020e+00, 3.32651700e-02]])"
      ]
     },
     "execution_count": 5,
     "metadata": {},
     "output_type": "execute_result"
    }
   ],
   "source": [
    "wp.data"
   ]
  },
  {
   "cell_type": "code",
   "execution_count": 6,
   "metadata": {},
   "outputs": [
    {
     "data": {
      "text/plain": [
       "array([[0.10637109],\n",
       "       [0.11298891],\n",
       "       [0.1331874 ],\n",
       "       ...,\n",
       "       [5.09976086],\n",
       "       [5.06700978],\n",
       "       [5.03944685]])"
      ]
     },
     "execution_count": 6,
     "metadata": {},
     "output_type": "execute_result"
    }
   ],
   "source": [
    "wp['a'].data"
   ]
  },
  {
   "cell_type": "code",
   "execution_count": null,
   "metadata": {},
   "outputs": [],
   "source": []
  }
 ],
 "metadata": {
  "kernelspec": {
   "display_name": "Python 3",
   "language": "python",
   "name": "python3"
  },
  "language_info": {
   "codemirror_mode": {
    "name": "ipython",
    "version": 3
   },
   "file_extension": ".py",
   "mimetype": "text/x-python",
   "name": "python",
   "nbconvert_exporter": "python",
   "pygments_lexer": "ipython3",
   "version": "3.7.5"
  }
 },
 "nbformat": 4,
 "nbformat_minor": 2
}
